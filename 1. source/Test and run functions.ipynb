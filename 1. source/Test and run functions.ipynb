{
 "cells": [
  {
   "cell_type": "code",
   "execution_count": 1,
   "id": "fe07436b",
   "metadata": {},
   "outputs": [],
   "source": [
    "%load_ext Cython"
   ]
  },
  {
   "cell_type": "code",
   "execution_count": 2,
   "id": "48b0d3b2",
   "metadata": {},
   "outputs": [],
   "source": [
    "import pstats, cProfile"
   ]
  },
  {
   "cell_type": "code",
   "execution_count": 3,
   "id": "3cac2338",
   "metadata": {},
   "outputs": [
    {
     "data": {
      "text/plain": [
       "(None, <pyximport.pyximport.PyxImporter at 0x7f063438ac50>)"
      ]
     },
     "execution_count": 3,
     "metadata": {},
     "output_type": "execute_result"
    }
   ],
   "source": [
    "import pyximport\n",
    "pyximport.install(reload_support=True)"
   ]
  },
  {
   "cell_type": "code",
   "execution_count": 4,
   "id": "414dd8b0",
   "metadata": {},
   "outputs": [],
   "source": [
    "import Jfunc_cython_v4\n",
    "import numpy as np\n",
    "import os\n",
    "import sys\n",
    "from functools import lru_cache\n",
    "import pandas as pd\n",
    "from Jfunc_cython_v4 import computeJ as J\n",
    "\n",
    "from babiscython_v4_ubuntu import Ltrian as L\n",
    "import gmpy2 as gm\n",
    "from gmpy2 import *\n",
    "import time"
   ]
  },
  {
   "cell_type": "code",
   "execution_count": 5,
   "id": "036fa80c",
   "metadata": {},
   "outputs": [],
   "source": [
    "k21 = mpfr(1.6)\n",
    "k22 = mpfr(1.3)\n",
    "k23 = mpfr(1.1)\n",
    "\n",
    "n1 = -4\n",
    "n2 = 2\n",
    "n3 = 1\n",
    "\n",
    "d1=2\n",
    "d2=2\n",
    "d3=2"
   ]
  },
  {
   "cell_type": "code",
   "execution_count": 6,
   "id": "91d82097",
   "metadata": {},
   "outputs": [],
   "source": [
    "def test_J():\n",
    "    for i in range(16):\n",
    "        J(n1,n2,n3,i,10,4,k21,k22,k23)"
   ]
  },
  {
   "cell_type": "code",
   "execution_count": 7,
   "id": "c37b6c97",
   "metadata": {},
   "outputs": [
    {
     "name": "stdout",
     "output_type": "stream",
     "text": [
      " "
     ]
    }
   ],
   "source": [
    "%prun -s cumulative test_J()"
   ]
  },
  {
   "cell_type": "code",
   "execution_count": null,
   "id": "adaabcca",
   "metadata": {},
   "outputs": [],
   "source": [
    "J(0,0,0,2,1,0,1,0,0)"
   ]
  },
  {
   "cell_type": "code",
   "execution_count": null,
   "id": "24295fd9",
   "metadata": {},
   "outputs": [],
   "source": []
  }
 ],
 "metadata": {
  "kernelspec": {
   "display_name": "Python 3 (ipykernel)",
   "language": "python",
   "name": "python3"
  },
  "language_info": {
   "codemirror_mode": {
    "name": "ipython",
    "version": 3
   },
   "file_extension": ".py",
   "mimetype": "text/x-python",
   "name": "python",
   "nbconvert_exporter": "python",
   "pygments_lexer": "ipython3",
   "version": "3.7.10"
  }
 },
 "nbformat": 4,
 "nbformat_minor": 5
}
