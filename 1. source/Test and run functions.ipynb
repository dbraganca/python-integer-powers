{
 "cells": [
  {
   "cell_type": "code",
   "execution_count": 49,
   "id": "3cac2338",
   "metadata": {},
   "outputs": [],
   "source": [
    "import babispython_v12 as b\n",
    "from babispython_v12 import BubN\n",
    "from babispython_v12 import Ltrian"
   ]
  },
  {
   "cell_type": "code",
   "execution_count": 2,
   "id": "ed488845",
   "metadata": {},
   "outputs": [
    {
     "ename": "ModuleNotFoundError",
     "evalue": "No module named 'Jfunc_cython_v4'",
     "output_type": "error",
     "traceback": [
      "\u001b[1;31m---------------------------------------------------------------------------\u001b[0m",
      "\u001b[1;31mModuleNotFoundError\u001b[0m                       Traceback (most recent call last)",
      "\u001b[1;32m~\\Dropbox\\FFTLog\\Diogo_work\\1. Code\\2. Python_Cython\\python-integer-power-project\\1. source\\B411Red_jfunc_cython_v1.py\u001b[0m in \u001b[0;36m<module>\u001b[1;34m\u001b[0m\n\u001b[0;32m      5\u001b[0m \u001b[1;32mimport\u001b[0m \u001b[0mpandas\u001b[0m \u001b[1;32mas\u001b[0m \u001b[0mpd\u001b[0m\u001b[1;33m\u001b[0m\u001b[1;33m\u001b[0m\u001b[0m\n\u001b[0;32m      6\u001b[0m \u001b[1;33m\u001b[0m\u001b[0m\n\u001b[1;32m----> 7\u001b[1;33m \u001b[1;32mfrom\u001b[0m \u001b[0mJfunc_cython_v4\u001b[0m \u001b[1;32mimport\u001b[0m \u001b[0mcomputeJ\u001b[0m \u001b[1;32mas\u001b[0m \u001b[0mJ\u001b[0m\u001b[1;33m\u001b[0m\u001b[1;33m\u001b[0m\u001b[0m\n\u001b[0m\u001b[0;32m      8\u001b[0m \u001b[1;32mimport\u001b[0m \u001b[0mgmpy2\u001b[0m \u001b[1;32mas\u001b[0m \u001b[0mgm\u001b[0m\u001b[1;33m\u001b[0m\u001b[1;33m\u001b[0m\u001b[0m\n\u001b[0;32m      9\u001b[0m \u001b[1;32mfrom\u001b[0m \u001b[0mgmpy2\u001b[0m \u001b[1;32mimport\u001b[0m \u001b[1;33m*\u001b[0m\u001b[1;33m\u001b[0m\u001b[1;33m\u001b[0m\u001b[0m\n",
      "\u001b[1;31mModuleNotFoundError\u001b[0m: No module named 'Jfunc_cython_v4'"
     ]
    }
   ],
   "source": [
    "%run -i \"B411Red_jfunc_cython_v1.py\""
   ]
  },
  {
   "cell_type": "code",
   "execution_count": 10,
   "id": "8ee2b6d5",
   "metadata": {
    "scrolled": true
   },
   "outputs": [
    {
     "data": {
      "text/plain": [
       "(0.98729736150217655834200272233132833608880117429647 - 0.25503196315280179407137056199900375908049579856525j)"
      ]
     },
     "execution_count": 10,
     "metadata": {},
     "output_type": "execute_result"
    }
   ],
   "source": [
    "BubN(1,1,1,2+1j,3+2j)"
   ]
  },
  {
   "cell_type": "code",
   "execution_count": 12,
   "id": "fe9a9003",
   "metadata": {},
   "outputs": [
    {
     "data": {
      "text/plain": [
       "(0.62326280332262839767969906696063195036029541767288 - 0.16765821143716729021597075707428708596999429185451j)"
      ]
     },
     "execution_count": 12,
     "metadata": {},
     "output_type": "execute_result"
    }
   ],
   "source": [
    "Ltrian(1,2,1,2,0,0,1,0,0,2+1j,3+2j,0)"
   ]
  },
  {
   "cell_type": "code",
   "execution_count": 50,
   "id": "54f5209a",
   "metadata": {},
   "outputs": [],
   "source": [
    "from computeJ_Guido import computeJ as J"
   ]
  },
  {
   "cell_type": "code",
   "execution_count": 58,
   "id": "adaabcca",
   "metadata": {},
   "outputs": [
    {
     "data": {
      "text/plain": [
       "(0.000000016192127217894520840231054010794553191836693209489 + 0.0j)"
      ]
     },
     "execution_count": 58,
     "metadata": {},
     "output_type": "execute_result"
    }
   ],
   "source": [
    "J(0,0,0,2,1,0,1,0,0)"
   ]
  },
  {
   "cell_type": "code",
   "execution_count": 41,
   "id": "70eb270b",
   "metadata": {},
   "outputs": [
    {
     "data": {
      "text/plain": [
       "(1.6435879800732275895124198344489276579850331799253 + 0.0j)"
      ]
     },
     "execution_count": 41,
     "metadata": {},
     "output_type": "execute_result"
    }
   ],
   "source": [
    "BubN(1,1,1,1,1)"
   ]
  },
  {
   "cell_type": "code",
   "execution_count": null,
   "id": "24295fd9",
   "metadata": {},
   "outputs": [],
   "source": []
  }
 ],
 "metadata": {
  "kernelspec": {
   "display_name": "Python 3",
   "language": "python",
   "name": "python3"
  },
  "language_info": {
   "codemirror_mode": {
    "name": "ipython",
    "version": 3
   },
   "file_extension": ".py",
   "mimetype": "text/x-python",
   "name": "python",
   "nbconvert_exporter": "python",
   "pygments_lexer": "ipython3",
   "version": "3.8.8"
  }
 },
 "nbformat": 4,
 "nbformat_minor": 5
}
