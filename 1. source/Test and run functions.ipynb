{
 "cells": [
  {
   "cell_type": "code",
   "execution_count": 1,
   "id": "7a6f8241",
   "metadata": {},
   "outputs": [],
   "source": [
    "%load_ext Cython\n",
    "\n",
    "import cython\n",
    "\n",
    "import pstats, cProfile\n",
    "\n",
    "import pyximport\n",
    "pyximport.install(reload_support=True)\n",
    "\n",
    "import Jfunc_cython_v4\n",
    "from Jfunc_cython_v4 import computeJ as J\n",
    "import numpy as np\n",
    "import os\n",
    "import sys\n",
    "import config\n",
    "import time\n",
    "# from B222_jfunc_cython_v1 import compute_all_B222"
   ]
  },
  {
   "cell_type": "code",
   "execution_count": 6,
   "id": "e9d3b39d",
   "metadata": {},
   "outputs": [],
   "source": [
    "from P22_jfunc_cython_v1 import compute_all_P22\n",
    "from B222_jfunc_cython_v1 import compute_all_B222"
   ]
  },
  {
   "cell_type": "code",
   "execution_count": 2,
   "id": "79e125ae",
   "metadata": {},
   "outputs": [],
   "source": [
    "# compute_all_P22()"
   ]
  },
  {
   "cell_type": "code",
   "execution_count": 3,
   "id": "94cf4f29",
   "metadata": {},
   "outputs": [],
   "source": [
    "# start_time = time.time()\n",
    "# %prun -s cumulative compute_all_B222()\n",
    "# print(\"time:\", time.time()-start_time)"
   ]
  },
  {
   "cell_type": "code",
   "execution_count": 4,
   "id": "2b733198",
   "metadata": {},
   "outputs": [],
   "source": [
    "# start_time = time.time()\n",
    "# compute_all_B222()\n",
    "# print(\"time:\", time.time()-start_time)"
   ]
  },
  {
   "cell_type": "code",
   "execution_count": 2,
   "id": "fe07436b",
   "metadata": {},
   "outputs": [],
   "source": [
    "#from babiscython_v4_ubuntu import Ltrian as L\n",
    "#from babiscython_v4_ubuntu import BubN\n",
    "import gmpy2 as gm\n",
    "from gmpy2 import *\n",
    "# import time\n",
    "gm.get_context().precision = 190\n",
    "gm.get_context().allow_complex = True\n",
    "\n",
    "# kpeak1 = -0.034\n",
    "# kpeak2 = -0.001\n",
    "# kpeak3 = -0.000076\n",
    "# kpeak4 = -0.0000156\n",
    "# kuv1 = 0.069\n",
    "# kuv2 = 0.0082\n",
    "# kuv3 = 0.0013\n",
    "# kuv4 = 0.0000135\n",
    "# kpeak1 = mpfr(str(kpeak1))\n",
    "# kpeak2 = mpfr(str(kpeak2))\n",
    "# kpeak3 = mpfr(str(kpeak3))\n",
    "# kpeak4 = mpfr(str(kpeak4))\n",
    "# kuv1 = mpfr(str(kuv1))\n",
    "# kuv2 = mpfr(str(kuv2))\n",
    "# kuv3 = mpfr(str(kuv3))\n",
    "# kuv4 = mpfr(str(kuv4))\n",
    "\n",
    "# mass1 = -kpeak1 - 1j*kuv1\n",
    "# mass1conj = -kpeak1 + 1j*kuv1\n",
    "# mass2 = -kpeak2 - 1j*kuv2\n",
    "# mass2conj = -kpeak2 + 1j*kuv2\n",
    "# mass3 = -kpeak3 - 1j*kuv3\n",
    "# mass3conj = -kpeak3 + 1j*kuv3\n",
    "# mass4 = -kpeak4 - 1j*kuv4\n",
    "# mass4conj = -kpeak4 + 1j*kuv4\n",
    "\n",
    "# k21 = mpfr(1.6)\n",
    "# k22 = mpfr(1.25)\n",
    "# k23 = mpfr(1.09)\n",
    "\n",
    "# n1 = -3\n",
    "# n2 = 2\n",
    "# n3 = 1\n",
    "\n",
    "# d1=2\n",
    "# d2=3\n",
    "# d3=2\n",
    "\n",
    "# m1=mass1\n",
    "# m2=mass2"
   ]
  },
  {
   "cell_type": "code",
   "execution_count": 3,
   "id": "913129dc",
   "metadata": {},
   "outputs": [],
   "source": [
    "# import scipy\n",
    "\n",
    "# from scipy.special import gamma"
   ]
  },
  {
   "cell_type": "code",
   "execution_count": 18,
   "id": "23068d0f",
   "metadata": {},
   "outputs": [],
   "source": [
    "# clear cache\n",
    "config.Ltrian_cache.clear()\n",
    "config.TriaN_cache.clear()"
   ]
  },
  {
   "cell_type": "code",
   "execution_count": 19,
   "id": "adaabcca",
   "metadata": {},
   "outputs": [
    {
     "data": {
      "text/plain": [
       "-7.957747154594769e-08"
      ]
     },
     "execution_count": 19,
     "metadata": {},
     "output_type": "execute_result"
    }
   ],
   "source": [
    "k21 = mpfr('0.1')**2\n",
    "k22 = mpfr(0.199356)**2\n",
    "k23 = mpfr(0.124006)**2\n",
    "\n",
    "n1 = 0\n",
    "n2 = 0\n",
    "n3 = 0\n",
    "\n",
    "d1= 0\n",
    "d2= -1\n",
    "d3= -1\n",
    "\n",
    "J(n1,n2,n3,d1,d2,d3,k21,k22,k23)"
   ]
  },
  {
   "cell_type": "code",
   "execution_count": null,
   "id": "34cf0bb9",
   "metadata": {},
   "outputs": [],
   "source": [
    "L(2,1,2,1,2,1,k21,k22,k23,mass1,mass2,mass1)"
   ]
  },
  {
   "cell_type": "code",
   "execution_count": null,
   "id": "3963170d",
   "metadata": {},
   "outputs": [],
   "source": [
    "def test_J():\n",
    "    for i in range(16):\n",
    "        J(n1,n2,n3,i,10,4,k21,k22,k23)"
   ]
  },
  {
   "cell_type": "code",
   "execution_count": null,
   "id": "4b05c5a2",
   "metadata": {},
   "outputs": [],
   "source": [
    "lcs((1,2,3,4),(3,4,5,6))"
   ]
  },
  {
   "cell_type": "code",
   "execution_count": null,
   "id": "34b8cf9a",
   "metadata": {},
   "outputs": [],
   "source": [
    "start_time = time.time()\n",
    "%prun -s cumulative test_J()\n",
    "print(\"time:\", time.time()-start_time)"
   ]
  },
  {
   "cell_type": "code",
   "execution_count": null,
   "id": "1a50cef7",
   "metadata": {},
   "outputs": [],
   "source": [
    "import timeit\n",
    "import marshal"
   ]
  },
  {
   "cell_type": "code",
   "execution_count": null,
   "id": "262a9ecd",
   "metadata": {},
   "outputs": [],
   "source": [
    "print(timeit.timeit('marshal.dumps((0,1,2,3,4,5,6,7,8))','import marshal',number = 1000))\n",
    "print(timeit.timeit('hash((0,1,2,3,4,5,6,7,8))',number = 1000))"
   ]
  },
  {
   "cell_type": "code",
   "execution_count": null,
   "id": "45cb6fcc",
   "metadata": {},
   "outputs": [],
   "source": [
    "from babiscython_v4_ubuntu import TriaN\n",
    "from Jfunc_cython_v4 import computeJ as J\n",
    "\n",
    "kpeak1 = -0.034\n",
    "kpeak2 = -0.001\n",
    "kpeak3 = -0.000076\n",
    "kpeak4 = -0.0000156\n",
    "kuv1 = 0.069\n",
    "kuv2 = 0.0082\n",
    "kuv3 = 0.0013\n",
    "kuv4 = 0.0000135\n",
    "kpeak1 = mpfr(str(kpeak1))\n",
    "kpeak2 = mpfr(str(kpeak2))\n",
    "kpeak3 = mpfr(str(kpeak3))\n",
    "kpeak4 = mpfr(str(kpeak4))\n",
    "kuv1 = mpfr(str(kuv1))\n",
    "kuv2 = mpfr(str(kuv2))\n",
    "kuv3 = mpfr(str(kuv3))\n",
    "kuv4 = mpfr(str(kuv4))\n",
    "\n",
    "mass1 = -kpeak1 - 1j*kuv1\n",
    "mass1conj = -kpeak1 + 1j*kuv1\n",
    "mass2 = -kpeak2 - 1j*kuv2\n",
    "mass2conj = -kpeak2 + 1j*kuv2\n",
    "mass3 = -kpeak3 - 1j*kuv3\n",
    "mass3conj = -kpeak3 + 1j*kuv3\n",
    "mass4 = -kpeak4 - 1j*kuv4\n",
    "mass4conj = -kpeak4 + 1j*kuv4\n",
    "\n",
    "k21 = mpfr(0.5)\n",
    "k22 = mpfr(0.5)\n",
    "k23 = mpfr(0.5)\n",
    "\n",
    "n1 = -1\n",
    "n2 = 3\n",
    "n3 = -1\n",
    "\n",
    "d1=3\n",
    "d2=3\n",
    "d3=3\n",
    "\n",
    "m1=mass1\n",
    "m2=mass1\n",
    "m3=mass1\n",
    "\n",
    "\n",
    "# TriaN(d1,d2,d3,k21,k22,k23,m1,m2,m3)\n",
    "J(n1,n2,n3,d1,d2,d3,k21,k22,k23)"
   ]
  },
  {
   "cell_type": "code",
   "execution_count": null,
   "id": "3b2fd455",
   "metadata": {},
   "outputs": [],
   "source": [
    "str((n1,n2,n3,d1,d2,d3,k21,k22,k23))"
   ]
  },
  {
   "cell_type": "code",
   "execution_count": 19,
   "id": "0c52914d",
   "metadata": {},
   "outputs": [],
   "source": [
    "lenfdiogo=16\n",
    "lenfbabis=33"
   ]
  },
  {
   "cell_type": "code",
   "execution_count": 20,
   "id": "ca811e11",
   "metadata": {},
   "outputs": [],
   "source": [
    "mattemp=np.reshape(np.fromfile('matdiogotobabisnewbasis', np.complex128),(lenfdiogo,lenfbabis))"
   ]
  },
  {
   "cell_type": "code",
   "execution_count": 22,
   "id": "962a264e",
   "metadata": {},
   "outputs": [
    {
     "data": {
      "text/plain": [
       "array([0.0001+0.j])"
      ]
     },
     "execution_count": 22,
     "metadata": {},
     "output_type": "execute_result"
    }
   ],
   "source": [
    "np.take(mattemp[0],[0])"
   ]
  },
  {
   "cell_type": "code",
   "execution_count": 15,
   "id": "dee048c6",
   "metadata": {},
   "outputs": [
    {
     "data": {
      "text/plain": [
       "array([0.0001+0.j, 0.    +0.j, 0.    +0.j, 0.    +0.j, 0.    +0.j,\n",
       "       0.    +0.j, 0.    +0.j, 0.    +0.j, 0.    +0.j, 0.    +0.j,\n",
       "       0.    +0.j, 0.    +0.j, 0.    +0.j, 0.    +0.j, 0.    +0.j,\n",
       "       0.    +0.j, 0.    +0.j, 0.    +0.j, 0.    +0.j, 0.    +0.j,\n",
       "       0.    +0.j, 0.    +0.j, 0.    +0.j, 0.    +0.j, 0.    +0.j,\n",
       "       0.    +0.j, 0.    +0.j, 0.    +0.j, 0.    +0.j, 0.    +0.j,\n",
       "       0.    +0.j, 0.    +0.j, 0.    +0.j])"
      ]
     },
     "execution_count": 15,
     "metadata": {},
     "output_type": "execute_result"
    }
   ],
   "source": [
    "mattemp[0]"
   ]
  },
  {
   "cell_type": "code",
   "execution_count": 16,
   "id": "27edee2f",
   "metadata": {},
   "outputs": [],
   "source": [
    "mattemp_henry=np.reshape(np.fromfile('matdiogotobabisnewfun_henry', np.complex128),(lenfdiogo,lenfbabis))"
   ]
  },
  {
   "cell_type": "code",
   "execution_count": 26,
   "id": "b6007784",
   "metadata": {},
   "outputs": [
    {
     "data": {
      "text/plain": [
       "1.1211203685061859e-15"
      ]
     },
     "execution_count": 26,
     "metadata": {},
     "output_type": "execute_result"
    }
   ],
   "source": [
    "np.sum(abs(mattemp-mattemp_henry))\n"
   ]
  },
  {
   "cell_type": "code",
   "execution_count": 29,
   "id": "4a5b5d5a",
   "metadata": {},
   "outputs": [
    {
     "data": {
      "text/plain": [
       "array([ 0.00000000e+00+0.00000000e+00j,  0.00000000e+00+0.00000000e+00j,\n",
       "        0.00000000e+00+0.00000000e+00j,  0.00000000e+00+0.00000000e+00j,\n",
       "        0.00000000e+00+0.00000000e+00j,  0.00000000e+00+0.00000000e+00j,\n",
       "        0.00000000e+00+0.00000000e+00j,  0.00000000e+00+0.00000000e+00j,\n",
       "        0.00000000e+00+0.00000000e+00j,  0.00000000e+00+0.00000000e+00j,\n",
       "        0.00000000e+00+0.00000000e+00j,  0.00000000e+00+0.00000000e+00j,\n",
       "        0.00000000e+00+0.00000000e+00j,  0.00000000e+00+0.00000000e+00j,\n",
       "        0.00000000e+00+0.00000000e+00j,  3.23117427e-27+0.00000000e+00j,\n",
       "        3.23117427e-27+0.00000000e+00j,  0.00000000e+00+0.00000000e+00j,\n",
       "        0.00000000e+00+0.00000000e+00j,  0.00000000e+00+0.00000000e+00j,\n",
       "        0.00000000e+00+0.00000000e+00j,  0.00000000e+00+0.00000000e+00j,\n",
       "        0.00000000e+00+0.00000000e+00j,  0.00000000e+00-4.93038066e-32j,\n",
       "        0.00000000e+00+4.93038066e-32j,  0.00000000e+00+0.00000000e+00j,\n",
       "        0.00000000e+00+0.00000000e+00j,  0.00000000e+00+0.00000000e+00j,\n",
       "        0.00000000e+00+0.00000000e+00j,  0.00000000e+00+0.00000000e+00j,\n",
       "        0.00000000e+00+0.00000000e+00j, -3.76158192e-37+0.00000000e+00j,\n",
       "       -3.76158192e-37+0.00000000e+00j])"
      ]
     },
     "execution_count": 29,
     "metadata": {},
     "output_type": "execute_result"
    }
   ],
   "source": [
    "i=15\n",
    "mattemp[i]-mattemp_henry[i]\n"
   ]
  },
  {
   "cell_type": "code",
   "execution_count": null,
   "id": "c4244d66",
   "metadata": {},
   "outputs": [],
   "source": []
  }
 ],
 "metadata": {
  "kernelspec": {
   "display_name": "Python 3 (ipykernel)",
   "language": "python",
   "name": "python3"
  },
  "language_info": {
   "codemirror_mode": {
    "name": "ipython",
    "version": 3
   },
   "file_extension": ".py",
   "mimetype": "text/x-python",
   "name": "python",
   "nbconvert_exporter": "python",
   "pygments_lexer": "ipython3",
   "version": "3.7.10"
  }
 },
 "nbformat": 4,
 "nbformat_minor": 5
}
