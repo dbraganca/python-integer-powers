{
 "cells": [
  {
   "cell_type": "code",
   "execution_count": 1,
   "id": "d3199424",
   "metadata": {},
   "outputs": [],
   "source": [
    "%load_ext Cython\n",
    "\n",
    "import cython\n",
    "\n",
    "import pstats, cProfile\n",
    "\n",
    "import pyximport\n",
    "pyximport.install(reload_support=True)\n",
    "\n",
    "import Jfunc_cython_v4\n",
    "from Jfunc_cython_v4 import computeJ as J\n",
    "import numpy as np\n",
    "import os\n",
    "import sys\n",
    "import config\n",
    "import time\n",
    "# from B222_jfunc_cython_v1 import compute_all_B222\n",
    "\n",
    "import gmpy2 as gm\n",
    "from gmpy2 import *\n",
    "gm.get_context().precision = 190\n",
    "gm.get_context().allow_complex = True\n"
   ]
  },
  {
   "cell_type": "code",
   "execution_count": 2,
   "id": "fadff83b",
   "metadata": {},
   "outputs": [],
   "source": [
    "from P22_jfunc_cython_v1 import compute_all_P22\n",
    "from B222_jfunc_cython_v1 import compute_all_B222"
   ]
  },
  {
   "cell_type": "code",
   "execution_count": 3,
   "id": "259aa335",
   "metadata": {},
   "outputs": [],
   "source": [
    "ctab_path = '../3. Ctabs/B3211ctab.csv'\n",
    "fisherPoints_path = '../3. Ctabs/fisherPoints.csv'"
   ]
  },
  {
   "cell_type": "code",
   "execution_count": 12,
   "id": "f1144bc4",
   "metadata": {},
   "outputs": [],
   "source": [
    "b3211ctab = np.loadtxt(ctab_path, dtype = int)\n",
    "fisher_points = np.loadtxt(fisherPoints_path, dtype = float, delimiter = ',')"
   ]
  },
  {
   "cell_type": "code",
   "execution_count": 18,
   "id": "403bb78f",
   "metadata": {},
   "outputs": [
    {
     "data": {
      "text/plain": [
       "array([0.01722, 0.01722, 0.01722])"
      ]
     },
     "execution_count": 18,
     "metadata": {},
     "output_type": "execute_result"
    }
   ],
   "source": [
    "fisher_points[0]"
   ]
  },
  {
   "cell_type": "code",
   "execution_count": 20,
   "id": "d3c62ba2",
   "metadata": {},
   "outputs": [],
   "source": [
    "def f(a,b,c):\n",
    "    return a+b+c"
   ]
  },
  {
   "cell_type": "code",
   "execution_count": 23,
   "id": "5006da98",
   "metadata": {},
   "outputs": [
    {
     "data": {
      "text/plain": [
       "0.05166000000000001"
      ]
     },
     "execution_count": 23,
     "metadata": {},
     "output_type": "execute_result"
    }
   ],
   "source": [
    "f(*fisher_points[0])"
   ]
  },
  {
   "cell_type": "code",
   "execution_count": 36,
   "id": "03f010ce",
   "metadata": {},
   "outputs": [],
   "source": [
    "k12=0.234\n",
    "k22=0.0055\n",
    "k32=0.0079236578"
   ]
  },
  {
   "cell_type": "code",
   "execution_count": 47,
   "id": "a5e75c1c",
   "metadata": {},
   "outputs": [
    {
     "name": "stdout",
     "output_type": "stream",
     "text": [
      "0.234 0.00550 0.00792\n"
     ]
    }
   ],
   "source": [
    "k1_str = str(round(k12,5))\n",
    "k2_str = '%.5f' % k22\n",
    "k3_str = '%.5f' % k32\n",
    "\n",
    "print(k1_str, k2_str, k3_str)"
   ]
  },
  {
   "cell_type": "code",
   "execution_count": 40,
   "id": "db480de8",
   "metadata": {},
   "outputs": [
    {
     "data": {
      "text/plain": [
       "mpfr('0.2340000000000000135447209004269097931683063507080078125',190)"
      ]
     },
     "execution_count": 40,
     "metadata": {},
     "output_type": "execute_result"
    }
   ],
   "source": [
    "mpfr(k12)"
   ]
  },
  {
   "cell_type": "code",
   "execution_count": 4,
   "id": "53840268",
   "metadata": {},
   "outputs": [],
   "source": [
    "k_perms = [(k12, k22, k32),\n",
    "           (k12, k32, k22),\n",
    "           (k22, k12, k32),\n",
    "           (k22, k32, k12),\n",
    "           (k32, k12, k22),\n",
    "           (k32, k22, k12)] "
   ]
  },
  {
   "cell_type": "code",
   "execution_count": 6,
   "id": "677d38a2",
   "metadata": {},
   "outputs": [
    {
     "data": {
      "text/plain": [
       "[(0.23, 0.55, 0.79),\n",
       " (0.23, 0.79, 0.55),\n",
       " (0.55, 0.23, 0.79),\n",
       " (0.55, 0.79, 0.23),\n",
       " (0.79, 0.23, 0.55),\n",
       " (0.79, 0.55, 0.23)]"
      ]
     },
     "execution_count": 6,
     "metadata": {},
     "output_type": "execute_result"
    }
   ],
   "source": [
    "k_perms"
   ]
  },
  {
   "cell_type": "code",
   "execution_count": 9,
   "id": "d4a67d20",
   "metadata": {},
   "outputs": [],
   "source": [
    "dict_perms = {(k12, k22, k32): (1,2,3),\n",
    "              (k12, k32, k22): (2,1,3),\n",
    "              (k22, k12, k32): (1,3,2),\n",
    "              (k22, k32, k12): (2,3,1),\n",
    "              (k32, k12, k22): (3,1,2),\n",
    "              (k32, k22, k12): (3,2,1)}"
   ]
  },
  {
   "cell_type": "code",
   "execution_count": 2,
   "id": "8e3bacca",
   "metadata": {},
   "outputs": [],
   "source": [
    "k_to_n_perms = {\"k123\": (1,2,3),\n",
    "                \"k132\": (2,1,3),\n",
    "                \"k213\": (1,3,2),\n",
    "                \"k231\": (2,3,1),\n",
    "                \"k312\": (3,1,2),\n",
    "                \"k321\": (3,2,1)}"
   ]
  },
  {
   "cell_type": "code",
   "execution_count": 3,
   "id": "8fe150a1",
   "metadata": {},
   "outputs": [
    {
     "name": "stdout",
     "output_type": "stream",
     "text": [
      "3598644415.436593\n",
      "3598644415.43659\n"
     ]
    }
   ],
   "source": [
    "i1=7\n",
    "i2=5\n",
    "i3=8\n",
    "\n",
    "n1 = 3\n",
    "n2 = 2\n",
    "n3 = 1\n",
    "\n",
    "ivec = [i1,i2,i3]\n",
    "nvec = [n1,n2,n3]\n",
    "\n",
    "mpfr0 = mpfr(0)\n",
    "k12 = mpfr('0.01447')**2\n",
    "k22 = mpfr('0.199356')**2\n",
    "k32 = mpfr('0.124006')**2\n",
    "\n",
    "(p1,p2,p3) = k_to_n_perms[\"k321\"]\n",
    "\n",
    "# clear cache\n",
    "config.clear_cache()\n",
    "print(J(n1,n2,n3,i1,i2,i3,k32,k22,k12))\n",
    "\n",
    "# clear cache\n",
    "config.clear_cache()\n",
    "print(J(nvec[p1-1],nvec[p2-1],nvec[p3-1],ivec[p1-1],ivec[p2-1],ivec[p3-1],k12,k22,k32))"
   ]
  },
  {
   "cell_type": "code",
   "execution_count": 97,
   "id": "e0e9ebc0",
   "metadata": {},
   "outputs": [
    {
     "data": {
      "text/plain": [
       "(-2, -2, 1, -1, 5, -1)"
      ]
     },
     "execution_count": 97,
     "metadata": {},
     "output_type": "execute_result"
    }
   ],
   "source": [
    "nvec[p1-1],nvec[p2-1],nvec[p3-1],ivec[p1-1],ivec[p2-1],ivec[p3-1]"
   ]
  },
  {
   "cell_type": "code",
   "execution_count": 72,
   "id": "05fa7524",
   "metadata": {},
   "outputs": [
    {
     "data": {
      "text/plain": [
       "(3, 2, 1)"
      ]
     },
     "execution_count": 72,
     "metadata": {},
     "output_type": "execute_result"
    }
   ],
   "source": [
    "perm1=k_to_n_perms[\"k321\"]\n",
    "\n",
    "perm1"
   ]
  },
  {
   "cell_type": "code",
   "execution_count": 23,
   "id": "603f195c",
   "metadata": {
    "scrolled": true
   },
   "outputs": [
    {
     "data": {
      "text/plain": [
       "(7, 5, 2)"
      ]
     },
     "execution_count": 23,
     "metadata": {},
     "output_type": "execute_result"
    }
   ],
   "source": [
    "(ivec[perm1[0]-1],ivec[perm1[1]-1],ivec[perm1[2]-1])"
   ]
  },
  {
   "cell_type": "code",
   "execution_count": 35,
   "id": "4bb9a8f0",
   "metadata": {},
   "outputs": [
    {
     "data": {
      "text/plain": [
       "['k123', 'k132', 'k213', 'k231', 'k312', 'k321']"
      ]
     },
     "execution_count": 35,
     "metadata": {},
     "output_type": "execute_result"
    }
   ],
   "source": [
    "list(k_to_n_perms.keys())"
   ]
  },
  {
   "cell_type": "code",
   "execution_count": 24,
   "id": "79431861",
   "metadata": {},
   "outputs": [],
   "source": [
    "k_perms_str = [\"k123\", \"k132\", \"k213\",\n",
    "               \"k231\", \"k312\", \"k321\"]"
   ]
  },
  {
   "cell_type": "code",
   "execution_count": 25,
   "id": "d8015423",
   "metadata": {},
   "outputs": [
    {
     "data": {
      "text/plain": [
       "['k123', 'k132', 'k213', 'k231', 'k312', 'k321']"
      ]
     },
     "execution_count": 25,
     "metadata": {},
     "output_type": "execute_result"
    }
   ],
   "source": [
    "k_perms_str"
   ]
  },
  {
   "cell_type": "code",
   "execution_count": 2,
   "id": "ce418ba0",
   "metadata": {},
   "outputs": [],
   "source": [
    "# compute_all_P22()"
   ]
  },
  {
   "cell_type": "code",
   "execution_count": 3,
   "id": "555e2d8d",
   "metadata": {},
   "outputs": [],
   "source": [
    "# start_time = time.time()\n",
    "# %prun -s cumulative compute_all_B222()\n",
    "# print(\"time:\", time.time()-start_time)"
   ]
  },
  {
   "cell_type": "code",
   "execution_count": 4,
   "id": "d5e075ff",
   "metadata": {},
   "outputs": [],
   "source": [
    "# start_time = time.time()\n",
    "# compute_all_B222()\n",
    "# print(\"time:\", time.time()-start_time)"
   ]
  },
  {
   "cell_type": "code",
   "execution_count": 37,
   "id": "fe07436b",
   "metadata": {},
   "outputs": [],
   "source": [
    "#from babiscython_v4_ubuntu import Ltrian as L\n",
    "#from babiscython_v4_ubuntu import BubN\n",
    "import gmpy2 as gm\n",
    "from gmpy2 import *\n",
    "# import time\n",
    "gm.get_context().precision = 190\n",
    "gm.get_context().allow_complex = True\n",
    "\n",
    "# kpeak1 = -0.034\n",
    "# kpeak2 = -0.001\n",
    "# kpeak3 = -0.000076\n",
    "# kpeak4 = -0.0000156\n",
    "# kuv1 = 0.069\n",
    "# kuv2 = 0.0082\n",
    "# kuv3 = 0.0013\n",
    "# kuv4 = 0.0000135\n",
    "# kpeak1 = mpfr(str(kpeak1))\n",
    "# kpeak2 = mpfr(str(kpeak2))\n",
    "# kpeak3 = mpfr(str(kpeak3))\n",
    "# kpeak4 = mpfr(str(kpeak4))\n",
    "# kuv1 = mpfr(str(kuv1))\n",
    "# kuv2 = mpfr(str(kuv2))\n",
    "# kuv3 = mpfr(str(kuv3))\n",
    "# kuv4 = mpfr(str(kuv4))\n",
    "\n",
    "# mass1 = -kpeak1 - 1j*kuv1\n",
    "# mass1conj = -kpeak1 + 1j*kuv1\n",
    "# mass2 = -kpeak2 - 1j*kuv2\n",
    "# mass2conj = -kpeak2 + 1j*kuv2\n",
    "# mass3 = -kpeak3 - 1j*kuv3\n",
    "# mass3conj = -kpeak3 + 1j*kuv3\n",
    "# mass4 = -kpeak4 - 1j*kuv4\n",
    "# mass4conj = -kpeak4 + 1j*kuv4\n",
    "\n",
    "# k21 = mpfr(1.6)\n",
    "# k22 = mpfr(1.25)\n",
    "# k23 = mpfr(1.09)\n",
    "\n",
    "# n1 = -3\n",
    "# n2 = 2\n",
    "# n3 = 1\n",
    "\n",
    "# d1=2\n",
    "# d2=3\n",
    "# d3=2\n",
    "\n",
    "# m1=mass1\n",
    "# m2=mass2"
   ]
  },
  {
   "cell_type": "code",
   "execution_count": 19,
   "id": "913129dc",
   "metadata": {},
   "outputs": [],
   "source": [
    "# import scipy\n",
    "\n",
    "# from scipy.special import gamma"
   ]
  },
  {
   "cell_type": "code",
   "execution_count": 9,
   "id": "7159f3b6",
   "metadata": {},
   "outputs": [],
   "source": [
    "# clear cache\n",
    "config.Ltrian_cache.clear()\n",
    "config.TriaN_cache.clear()"
   ]
  },
  {
   "cell_type": "code",
   "execution_count": 63,
   "id": "40835078",
   "metadata": {},
   "outputs": [],
   "source": [
    "# # define in and out folders\n",
    "# ctabfolder = '../3. Ctabs/P13ctabks/'\n",
    "# outputfolder = '../2. Jmat_loopvals/P13_Jmat_cython/'\n",
    "\n",
    "# filelist = [f for f in os.listdir(ctabfolder) if not f.startswith('.')]\n",
    "\n",
    "# def get_ks(filename):\n",
    "# \t# filename = 'B222ctab_' + k1str + '_' + k2str + '_' + k3str + '_.csv'\n",
    "# \tk1 = mpfr(str.split(filename,'_')[1])\n",
    "# \treturn k1\n",
    "\n",
    "# def computeker(i1, k2, ctab_ns, ctab_coefs):\n",
    "# \tmpfr0 = mpfr(0)\n",
    "# \tnumker = len(ctab_coefs)\n",
    "# \tres = 0\n",
    "# \tfor i in range(numker):\n",
    "# \t\tif ctab_coefs[i] != 0:\n",
    "# \t\t\tres += ctab_coefs[i]*J(-ctab_ns[i,0], -ctab_ns[i,1], 0, i1, -1, -1, k2, mpfr0, mpfr0)\t\t\t\n",
    "# \treturn res\n",
    "\n",
    "# def find_ctab(k1):\n",
    "#     for filename in filelist:\n",
    "#         if str(k1) in filename:\n",
    "#             return filename\n",
    "\n",
    "# def compute_P13_jmat(k1):\n",
    "\n",
    "#     k12 = mpfr(k1)**2\n",
    "#     mpfr0 = mpfr(0)\n",
    "#     i_func = 1\n",
    "\n",
    "#     ctab_filename = find_ctab(k1)\n",
    "#     print(ctab_filename)\n",
    "#     ctab_load = np.loadtxt(ctabfolder + ctab_filename, dtype = object)\n",
    "#     ctab = np.zeros((len(ctab_load),3), dtype = object)\n",
    "    \n",
    "#     print(ctab_load)\n",
    "\n",
    "#     for i in range(len(ctab)):\n",
    "#         ctab[i, 0] = round(float(ctab_load[i, 0]))\n",
    "#         ctab[i, 1] = round(float(ctab_load[i, 1]))\n",
    "#         ctab[i, 2] = float(str(ctab_load[i, 2]))\n",
    "\n",
    "#     ctab_ns = ctab[:,0:2].astype(int)\n",
    "#     ctab_coefs = ctab[:,2].astype(float)\n",
    "\n",
    "    \n",
    "#     numker = len(ctab_coefs)\n",
    "#     Jtriantable = np.empty([numker,3],dtype=float)\n",
    "#     # clear cache\n",
    "#     config.Ltrian_cache.clear()\n",
    "#     config.TriaN_cache.clear()\n",
    "  \n",
    "#     for i in range(numker):\n",
    "#         Jtriantable[i] = [ctab_ns[i,0],ctab_ns[i,1],J(-ctab_ns[i,0], -ctab_ns[i,1], 0, i_func, -1, -1, k12, mpfr0, mpfr0)]\n",
    "    \n",
    "#     print(ctab_coefs)\n",
    "    \n",
    "#     tot = np.dot(Jtriantable[:,2],ctab_coefs)\n",
    "    \n",
    "#     # Output table\n",
    "#     return (Jtriantable,tot)\n",
    "\n"
   ]
  },
  {
   "cell_type": "code",
   "execution_count": 62,
   "id": "adaabcca",
   "metadata": {},
   "outputs": [
    {
     "data": {
      "text/plain": [
       "-0.0001613685405474843"
      ]
     },
     "execution_count": 62,
     "metadata": {},
     "output_type": "execute_result"
    }
   ],
   "source": [
    "mpfr0 = mpfr(0)\n",
    "k21 = mpfr('0.01447')**2\n",
    "# k22 = mpfr(0.199356)**2\n",
    "# k23 = mpfr(0.124006)**2\n",
    "\n",
    "n1 = 0\n",
    "n2 = 0\n",
    "n3 = 0\n",
    "\n",
    "d1= 1\n",
    "d2= -1\n",
    "d3= -1\n",
    "\n",
    "J(n1,n2,n3,d1,d2,d3,k21,mpfr0,mpfr0)"
   ]
  },
  {
   "cell_type": "code",
   "execution_count": null,
   "id": "34cf0bb9",
   "metadata": {},
   "outputs": [],
   "source": [
    "L(2,1,2,1,2,1,k21,k22,k23,mass1,mass2,mass1)"
   ]
  },
  {
   "cell_type": "code",
   "execution_count": null,
   "id": "3963170d",
   "metadata": {},
   "outputs": [],
   "source": [
    "def test_J():\n",
    "    for i in range(16):\n",
    "        J(n1,n2,n3,i,10,4,k21,k22,k23)"
   ]
  },
  {
   "cell_type": "code",
   "execution_count": null,
   "id": "4b05c5a2",
   "metadata": {},
   "outputs": [],
   "source": [
    "lcs((1,2,3,4),(3,4,5,6))"
   ]
  },
  {
   "cell_type": "code",
   "execution_count": null,
   "id": "34b8cf9a",
   "metadata": {},
   "outputs": [],
   "source": [
    "start_time = time.time()\n",
    "%prun -s cumulative test_J()\n",
    "print(\"time:\", time.time()-start_time)"
   ]
  },
  {
   "cell_type": "code",
   "execution_count": null,
   "id": "1a50cef7",
   "metadata": {},
   "outputs": [],
   "source": [
    "import timeit\n",
    "import marshal"
   ]
  },
  {
   "cell_type": "code",
   "execution_count": null,
   "id": "262a9ecd",
   "metadata": {},
   "outputs": [],
   "source": [
    "print(timeit.timeit('marshal.dumps((0,1,2,3,4,5,6,7,8))','import marshal',number = 1000))\n",
    "print(timeit.timeit('hash((0,1,2,3,4,5,6,7,8))',number = 1000))"
   ]
  },
  {
   "cell_type": "code",
   "execution_count": null,
   "id": "45cb6fcc",
   "metadata": {},
   "outputs": [],
   "source": [
    "from babiscython_v4_ubuntu import TriaN\n",
    "from Jfunc_cython_v4 import computeJ as J\n",
    "\n",
    "kpeak1 = -0.034\n",
    "kpeak2 = -0.001\n",
    "kpeak3 = -0.000076\n",
    "kpeak4 = -0.0000156\n",
    "kuv1 = 0.069\n",
    "kuv2 = 0.0082\n",
    "kuv3 = 0.0013\n",
    "kuv4 = 0.0000135\n",
    "kpeak1 = mpfr(str(kpeak1))\n",
    "kpeak2 = mpfr(str(kpeak2))\n",
    "kpeak3 = mpfr(str(kpeak3))\n",
    "kpeak4 = mpfr(str(kpeak4))\n",
    "kuv1 = mpfr(str(kuv1))\n",
    "kuv2 = mpfr(str(kuv2))\n",
    "kuv3 = mpfr(str(kuv3))\n",
    "kuv4 = mpfr(str(kuv4))\n",
    "\n",
    "mass1 = -kpeak1 - 1j*kuv1\n",
    "mass1conj = -kpeak1 + 1j*kuv1\n",
    "mass2 = -kpeak2 - 1j*kuv2\n",
    "mass2conj = -kpeak2 + 1j*kuv2\n",
    "mass3 = -kpeak3 - 1j*kuv3\n",
    "mass3conj = -kpeak3 + 1j*kuv3\n",
    "mass4 = -kpeak4 - 1j*kuv4\n",
    "mass4conj = -kpeak4 + 1j*kuv4\n",
    "\n",
    "k21 = mpfr(0.5)\n",
    "k22 = mpfr(0.5)\n",
    "k23 = mpfr(0.5)\n",
    "\n",
    "n1 = -1\n",
    "n2 = 3\n",
    "n3 = -1\n",
    "\n",
    "d1=3\n",
    "d2=3\n",
    "d3=3\n",
    "\n",
    "m1=mass1\n",
    "m2=mass1\n",
    "m3=mass1\n",
    "\n",
    "\n",
    "# TriaN(d1,d2,d3,k21,k22,k23,m1,m2,m3)\n",
    "J(n1,n2,n3,d1,d2,d3,k21,k22,k23)"
   ]
  }
 ],
 "metadata": {
  "kernelspec": {
   "display_name": "Python 3 (ipykernel)",
   "language": "python",
   "name": "python3"
  },
  "language_info": {
   "codemirror_mode": {
    "name": "ipython",
    "version": 3
   },
   "file_extension": ".py",
   "mimetype": "text/x-python",
   "name": "python",
   "nbconvert_exporter": "python",
   "pygments_lexer": "ipython3",
   "version": "3.7.10"
  }
 },
 "nbformat": 4,
 "nbformat_minor": 5
}
