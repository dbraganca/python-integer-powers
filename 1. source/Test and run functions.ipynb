{
 "cells": [
  {
   "cell_type": "markdown",
   "id": "e12b2f37",
   "metadata": {},
   "source": [
    "# Load libraries and import functions to test"
   ]
  },
  {
   "cell_type": "code",
   "execution_count": 1,
   "id": "d3199424",
   "metadata": {},
   "outputs": [],
   "source": [
    "%load_ext Cython\n",
    "\n",
    "import cython\n",
    "import pstats, cProfile\n",
    "\n",
    "import pyximport\n",
    "pyximport.install(reload_support=True)\n",
    "\n",
    "import Jfunc_cython_v4\n",
    "from Jfunc_cython_v4 import computeJ as J\n",
    "import numpy as np\n",
    "import os\n",
    "import sys\n",
    "import config\n",
    "import time\n",
    "\n",
    "import gmpy2 as gm\n",
    "from gmpy2 import *\n",
    "gm.get_context().precision = 190\n",
    "gm.get_context().allow_complex = True"
   ]
  },
  {
   "cell_type": "code",
   "execution_count": 38,
   "id": "fadff83b",
   "metadata": {},
   "outputs": [],
   "source": [
    "from P22_jfunc_cython_v1 import compute_all_P22\n",
    "from B222_jfunc_cython_v1 import compute_all_B222\n",
    "from P13_bias import P13jmat\n",
    "from P22_bias import P22jmat"
   ]
  },
  {
   "cell_type": "markdown",
   "id": "68b6b9a7",
   "metadata": {},
   "source": [
    "# Define paths and load ctabs"
   ]
  },
  {
   "cell_type": "code",
   "execution_count": 3,
   "id": "259aa335",
   "metadata": {},
   "outputs": [],
   "source": [
    "ctab_path = '../3. Ctabs/B3211ctab.csv'\n",
    "fisherPoints_path = '../3. Ctabs/fisherPoints.csv'"
   ]
  },
  {
   "cell_type": "code",
   "execution_count": 5,
   "id": "f1144bc4",
   "metadata": {},
   "outputs": [],
   "source": [
    "b3211ctab = np.loadtxt(ctab_path, dtype = int, delimiter = ',')\n",
    "fisher_points = np.loadtxt(fisherPoints_path, dtype = float, delimiter = ',')"
   ]
  },
  {
   "cell_type": "code",
   "execution_count": 7,
   "id": "4bcb3200",
   "metadata": {},
   "outputs": [
    {
     "name": "stdout",
     "output_type": "stream",
     "text": [
      "[0.01722 0.01722 0.01722]\n",
      "[-4  1  2]\n"
     ]
    }
   ],
   "source": [
    "print(fisher_points[0])\n",
    "print(b3211ctab[0])"
   ]
  },
  {
   "cell_type": "markdown",
   "id": "001c2563",
   "metadata": {},
   "source": [
    "# Define function parameters and masses"
   ]
  },
  {
   "cell_type": "code",
   "execution_count": null,
   "id": "d4f9118a",
   "metadata": {},
   "outputs": [],
   "source": [
    "kpeak1 = -0.034\n",
    "kpeak2 = -0.001\n",
    "kpeak3 = -0.000076\n",
    "kpeak4 = -0.0000156\n",
    "kuv1 = 0.069\n",
    "kuv2 = 0.0082\n",
    "kuv3 = 0.0013\n",
    "kuv4 = 0.0000135\n",
    "kpeak1 = mpfr(str(kpeak1))\n",
    "kpeak2 = mpfr(str(kpeak2))\n",
    "kpeak3 = mpfr(str(kpeak3))\n",
    "kpeak4 = mpfr(str(kpeak4))\n",
    "kuv1 = mpfr(str(kuv1))\n",
    "kuv2 = mpfr(str(kuv2))\n",
    "kuv3 = mpfr(str(kuv3))\n",
    "kuv4 = mpfr(str(kuv4))\n",
    "\n",
    "mass1 = -kpeak1 - 1j*kuv1\n",
    "mass1conj = -kpeak1 + 1j*kuv1\n",
    "mass2 = -kpeak2 - 1j*kuv2\n",
    "mass2conj = -kpeak2 + 1j*kuv2\n",
    "mass3 = -kpeak3 - 1j*kuv3\n",
    "mass3conj = -kpeak3 + 1j*kuv3\n",
    "mass4 = -kpeak4 - 1j*kuv4\n",
    "mass4conj = -kpeak4 + 1j*kuv4"
   ]
  },
  {
   "cell_type": "markdown",
   "id": "8726b814",
   "metadata": {},
   "source": [
    "# Calculate function J"
   ]
  },
  {
   "cell_type": "code",
   "execution_count": 26,
   "id": "9f715c04",
   "metadata": {},
   "outputs": [
    {
     "name": "stdout",
     "output_type": "stream",
     "text": [
      "2.2472623633633828e-14\n",
      "-6.248555822307442e-11\n"
     ]
    }
   ],
   "source": [
    "mpfr0 = mpfr(0)\n",
    "k1 = mpfr('0.01447')\n",
    "k12 = mpfr('0.01447')**2\n",
    "k22 = mpfr('0.199356')**2\n",
    "k32 = mpfr('0.124006')**2\n",
    "\n",
    "n1 = -3\n",
    "n2 = 2\n",
    "n3 = 1\n",
    "\n",
    "d1=2\n",
    "d2=3\n",
    "d3=2\n",
    "\n",
    "# very important to clear the cache when using different triangles\n",
    "config.clear_cache()\n",
    "print(J(n1,n2,n3,d1,d2,d3,k12,k22,k32))\n",
    "config.clear_cache()\n",
    "print(J(n1,n2,0,d1,d2,-1,k12,mpfr0,mpfr0))"
   ]
  },
  {
   "cell_type": "code",
   "execution_count": 40,
   "id": "c13c4c8c",
   "metadata": {},
   "outputs": [
    {
     "name": "stdout",
     "output_type": "stream",
     "text": [
      "(14, 16)\n"
     ]
    },
    {
     "data": {
      "text/plain": [
       "5.312930074853756e-12"
      ]
     },
     "execution_count": 40,
     "metadata": {},
     "output_type": "execute_result"
    }
   ],
   "source": [
    "# test jmat calculation for P13\n",
    "test_P13jmat = P13jmat(k1)\n",
    "\n",
    "print(test_P13jmat.shape)\n",
    "test_P13jmat[0][0]"
   ]
  },
  {
   "cell_type": "code",
   "execution_count": 41,
   "id": "71006814",
   "metadata": {},
   "outputs": [
    {
     "name": "stdout",
     "output_type": "stream",
     "text": [
      "(15, 16, 16)\n"
     ]
    },
    {
     "data": {
      "text/plain": [
       "-3.446367486729683e-08"
      ]
     },
     "execution_count": 41,
     "metadata": {},
     "output_type": "execute_result"
    }
   ],
   "source": [
    "# test jmat calculation for P22\n",
    "test_P22jmat = P22jmat(k1)\n",
    "\n",
    "print(test_P22jmat.shape)\n",
    "test_P22jmat[0][0][0]"
   ]
  },
  {
   "cell_type": "markdown",
   "id": "1aac3265",
   "metadata": {},
   "source": [
    "# Profiling the code"
   ]
  },
  {
   "cell_type": "code",
   "execution_count": null,
   "id": "d8ec2e78",
   "metadata": {},
   "outputs": [],
   "source": [
    "# code to profile J function\n",
    "def test_J():\n",
    "    for i in range(16):\n",
    "        J(n1,n2,n3,i,10,4,k21,k22,k23)\n",
    "\n",
    "start_time = time.time()\n",
    "%prun -s cumulative test_J()\n",
    "print(\"time:\", time.time()-start_time)"
   ]
  },
  {
   "cell_type": "code",
   "execution_count": 3,
   "id": "555e2d8d",
   "metadata": {},
   "outputs": [],
   "source": [
    "# cell to profile full B222()\n",
    "# start_time = time.time()\n",
    "# %prun -s cumulative compute_all_B222()\n",
    "# print(\"time:\", time.time()-start_time)"
   ]
  },
  {
   "cell_type": "code",
   "execution_count": 4,
   "id": "d5e075ff",
   "metadata": {},
   "outputs": [],
   "source": [
    "# start_time = time.time()\n",
    "# compute_all_B222()\n",
    "# print(\"time:\", time.time()-start_time)"
   ]
  }
 ],
 "metadata": {
  "kernelspec": {
   "display_name": "Python 3 (ipykernel)",
   "language": "python",
   "name": "python3"
  },
  "language_info": {
   "codemirror_mode": {
    "name": "ipython",
    "version": 3
   },
   "file_extension": ".py",
   "mimetype": "text/x-python",
   "name": "python",
   "nbconvert_exporter": "python",
   "pygments_lexer": "ipython3",
   "version": "3.7.10"
  }
 },
 "nbformat": 4,
 "nbformat_minor": 5
}
