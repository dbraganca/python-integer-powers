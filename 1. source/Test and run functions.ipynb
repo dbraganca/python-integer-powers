{
 "cells": [
  {
   "cell_type": "code",
   "execution_count": 49,
   "id": "3cac2338",
   "metadata": {},
   "outputs": [],
   "source": [
    "import babispython_v12 as b\n",
    "from babispython_v12 import BubN\n",
    "from babispython_v12 import Ltrian"
   ]
  },
  {
   "cell_type": "code",
   "execution_count": 10,
   "id": "8ee2b6d5",
   "metadata": {
    "scrolled": true
   },
   "outputs": [
    {
     "data": {
      "text/plain": [
       "(0.98729736150217655834200272233132833608880117429647 - 0.25503196315280179407137056199900375908049579856525j)"
      ]
     },
     "execution_count": 10,
     "metadata": {},
     "output_type": "execute_result"
    }
   ],
   "source": [
    "BubN(1,1,1,2+1j,3+2j)"
   ]
  },
  {
   "cell_type": "code",
   "execution_count": 12,
   "id": "fe9a9003",
   "metadata": {},
   "outputs": [
    {
     "data": {
      "text/plain": [
       "(0.62326280332262839767969906696063195036029541767288 - 0.16765821143716729021597075707428708596999429185451j)"
      ]
     },
     "execution_count": 12,
     "metadata": {},
     "output_type": "execute_result"
    }
   ],
   "source": [
    "Ltrian(1,2,1,2,0,0,1,0,0,2+1j,3+2j,0)"
   ]
  },
  {
   "cell_type": "code",
   "execution_count": 50,
   "id": "54f5209a",
   "metadata": {},
   "outputs": [],
   "source": [
    "from computeJ_Guido import computeJ as J"
   ]
  },
  {
   "cell_type": "code",
   "execution_count": 58,
   "id": "adaabcca",
   "metadata": {},
   "outputs": [
    {
     "data": {
      "text/plain": [
       "(0.000000016192127217894520840231054010794553191836693209489 + 0.0j)"
      ]
     },
     "execution_count": 58,
     "metadata": {},
     "output_type": "execute_result"
    }
   ],
   "source": [
    "J(0,0,0,2,1,0,1,0,0)"
   ]
  },
  {
   "cell_type": "code",
   "execution_count": 41,
   "id": "70eb270b",
   "metadata": {},
   "outputs": [
    {
     "data": {
      "text/plain": [
       "(1.6435879800732275895124198344489276579850331799253 + 0.0j)"
      ]
     },
     "execution_count": 41,
     "metadata": {},
     "output_type": "execute_result"
    }
   ],
   "source": [
    "BubN(1,1,1,1,1)"
   ]
  },
  {
   "cell_type": "code",
   "execution_count": null,
   "id": "24295fd9",
   "metadata": {},
   "outputs": [],
   "source": []
  }
 ],
 "metadata": {
  "kernelspec": {
   "display_name": "Python 3",
   "language": "python",
   "name": "python3"
  },
  "language_info": {
   "codemirror_mode": {
    "name": "ipython",
    "version": 3
   },
   "file_extension": ".py",
   "mimetype": "text/x-python",
   "name": "python",
   "nbconvert_exporter": "python",
   "pygments_lexer": "ipython3",
   "version": "3.8.8"
  }
 },
 "nbformat": 4,
 "nbformat_minor": 5
}
