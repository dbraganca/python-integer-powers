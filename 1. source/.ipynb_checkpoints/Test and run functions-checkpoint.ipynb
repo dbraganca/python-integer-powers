{
 "cells": [
  {
   "cell_type": "code",
   "execution_count": 1,
   "id": "d3199424",
   "metadata": {},
   "outputs": [],
   "source": [
    "%load_ext Cython\n",
    "\n",
    "import cython\n",
    "\n",
    "import pstats, cProfile\n",
    "\n",
    "import pyximport\n",
    "pyximport.install(reload_support=True)\n",
    "\n",
    "import Jfunc_cython_v4\n",
    "from Jfunc_cython_v4 import computeJ as J\n",
    "import numpy as np\n",
    "import os\n",
    "import sys\n",
    "import config\n",
    "import time\n",
    "# from B222_jfunc_cython_v1 import compute_all_B222"
   ]
  },
  {
   "cell_type": "code",
   "execution_count": 2,
   "id": "fadff83b",
   "metadata": {},
   "outputs": [],
   "source": [
    "from P22_jfunc_cython_v1 import compute_all_P22\n",
    "from B222_jfunc_cython_v1 import compute_all_B222"
   ]
  },
  {
   "cell_type": "code",
   "execution_count": 2,
   "id": "ce418ba0",
   "metadata": {},
   "outputs": [],
   "source": [
    "# compute_all_P22()"
   ]
  },
  {
   "cell_type": "code",
   "execution_count": 3,
   "id": "555e2d8d",
   "metadata": {},
   "outputs": [],
   "source": [
    "# start_time = time.time()\n",
    "# %prun -s cumulative compute_all_B222()\n",
    "# print(\"time:\", time.time()-start_time)"
   ]
  },
  {
   "cell_type": "code",
   "execution_count": 4,
   "id": "d5e075ff",
   "metadata": {},
   "outputs": [],
   "source": [
    "# start_time = time.time()\n",
    "# compute_all_B222()\n",
    "# print(\"time:\", time.time()-start_time)"
   ]
  },
  {
   "cell_type": "code",
   "execution_count": 2,
   "id": "fe07436b",
   "metadata": {},
   "outputs": [],
   "source": [
    "#from babiscython_v4_ubuntu import Ltrian as L\n",
    "#from babiscython_v4_ubuntu import BubN\n",
    "import gmpy2 as gm\n",
    "from gmpy2 import *\n",
    "# import time\n",
    "gm.get_context().precision = 190\n",
    "gm.get_context().allow_complex = True\n",
    "\n",
    "# kpeak1 = -0.034\n",
    "# kpeak2 = -0.001\n",
    "# kpeak3 = -0.000076\n",
    "# kpeak4 = -0.0000156\n",
    "# kuv1 = 0.069\n",
    "# kuv2 = 0.0082\n",
    "# kuv3 = 0.0013\n",
    "# kuv4 = 0.0000135\n",
    "# kpeak1 = mpfr(str(kpeak1))\n",
    "# kpeak2 = mpfr(str(kpeak2))\n",
    "# kpeak3 = mpfr(str(kpeak3))\n",
    "# kpeak4 = mpfr(str(kpeak4))\n",
    "# kuv1 = mpfr(str(kuv1))\n",
    "# kuv2 = mpfr(str(kuv2))\n",
    "# kuv3 = mpfr(str(kuv3))\n",
    "# kuv4 = mpfr(str(kuv4))\n",
    "\n",
    "# mass1 = -kpeak1 - 1j*kuv1\n",
    "# mass1conj = -kpeak1 + 1j*kuv1\n",
    "# mass2 = -kpeak2 - 1j*kuv2\n",
    "# mass2conj = -kpeak2 + 1j*kuv2\n",
    "# mass3 = -kpeak3 - 1j*kuv3\n",
    "# mass3conj = -kpeak3 + 1j*kuv3\n",
    "# mass4 = -kpeak4 - 1j*kuv4\n",
    "# mass4conj = -kpeak4 + 1j*kuv4\n",
    "\n",
    "# k21 = mpfr(1.6)\n",
    "# k22 = mpfr(1.25)\n",
    "# k23 = mpfr(1.09)\n",
    "\n",
    "# n1 = -3\n",
    "# n2 = 2\n",
    "# n3 = 1\n",
    "\n",
    "# d1=2\n",
    "# d2=3\n",
    "# d3=2\n",
    "\n",
    "# m1=mass1\n",
    "# m2=mass2"
   ]
  },
  {
   "cell_type": "code",
   "execution_count": 19,
   "id": "913129dc",
   "metadata": {},
   "outputs": [],
   "source": [
    "# import scipy\n",
    "\n",
    "# from scipy.special import gamma"
   ]
  },
  {
   "cell_type": "code",
   "execution_count": 9,
   "id": "7159f3b6",
   "metadata": {},
   "outputs": [],
   "source": [
    "# clear cache\n",
    "config.Ltrian_cache.clear()\n",
    "config.TriaN_cache.clear()"
   ]
  },
  {
   "cell_type": "code",
   "execution_count": 63,
   "id": "40835078",
   "metadata": {},
   "outputs": [],
   "source": [
    "# # define in and out folders\n",
    "# ctabfolder = '../3. Ctabs/P13ctabks/'\n",
    "# outputfolder = '../2. Jmat_loopvals/P13_Jmat_cython/'\n",
    "\n",
    "# filelist = [f for f in os.listdir(ctabfolder) if not f.startswith('.')]\n",
    "\n",
    "# def get_ks(filename):\n",
    "# \t# filename = 'B222ctab_' + k1str + '_' + k2str + '_' + k3str + '_.csv'\n",
    "# \tk1 = mpfr(str.split(filename,'_')[1])\n",
    "# \treturn k1\n",
    "\n",
    "# def computeker(i1, k2, ctab_ns, ctab_coefs):\n",
    "# \tmpfr0 = mpfr(0)\n",
    "# \tnumker = len(ctab_coefs)\n",
    "# \tres = 0\n",
    "# \tfor i in range(numker):\n",
    "# \t\tif ctab_coefs[i] != 0:\n",
    "# \t\t\tres += ctab_coefs[i]*J(-ctab_ns[i,0], -ctab_ns[i,1], 0, i1, -1, -1, k2, mpfr0, mpfr0)\t\t\t\n",
    "# \treturn res\n",
    "\n",
    "# def find_ctab(k1):\n",
    "#     for filename in filelist:\n",
    "#         if str(k1) in filename:\n",
    "#             return filename\n",
    "\n",
    "# def compute_P13_jmat(k1):\n",
    "\n",
    "#     k12 = mpfr(k1)**2\n",
    "#     mpfr0 = mpfr(0)\n",
    "#     i_func = 1\n",
    "\n",
    "#     ctab_filename = find_ctab(k1)\n",
    "#     print(ctab_filename)\n",
    "#     ctab_load = np.loadtxt(ctabfolder + ctab_filename, dtype = object)\n",
    "#     ctab = np.zeros((len(ctab_load),3), dtype = object)\n",
    "    \n",
    "#     print(ctab_load)\n",
    "\n",
    "#     for i in range(len(ctab)):\n",
    "#         ctab[i, 0] = round(float(ctab_load[i, 0]))\n",
    "#         ctab[i, 1] = round(float(ctab_load[i, 1]))\n",
    "#         ctab[i, 2] = float(str(ctab_load[i, 2]))\n",
    "\n",
    "#     ctab_ns = ctab[:,0:2].astype(int)\n",
    "#     ctab_coefs = ctab[:,2].astype(float)\n",
    "\n",
    "    \n",
    "#     numker = len(ctab_coefs)\n",
    "#     Jtriantable = np.empty([numker,3],dtype=float)\n",
    "#     # clear cache\n",
    "#     config.Ltrian_cache.clear()\n",
    "#     config.TriaN_cache.clear()\n",
    "  \n",
    "#     for i in range(numker):\n",
    "#         Jtriantable[i] = [ctab_ns[i,0],ctab_ns[i,1],J(-ctab_ns[i,0], -ctab_ns[i,1], 0, i_func, -1, -1, k12, mpfr0, mpfr0)]\n",
    "    \n",
    "#     print(ctab_coefs)\n",
    "    \n",
    "#     tot = np.dot(Jtriantable[:,2],ctab_coefs)\n",
    "    \n",
    "#     # Output table\n",
    "#     return (Jtriantable,tot)\n",
    "\n"
   ]
  },
  {
   "cell_type": "code",
   "execution_count": 62,
   "id": "adaabcca",
   "metadata": {},
   "outputs": [
    {
     "data": {
      "text/plain": [
       "-0.0001613685405474843"
      ]
     },
     "execution_count": 62,
     "metadata": {},
     "output_type": "execute_result"
    }
   ],
   "source": [
    "mpfr0 = mpfr(0)\n",
    "k21 = mpfr('0.01447')**2\n",
    "# k22 = mpfr(0.199356)**2\n",
    "# k23 = mpfr(0.124006)**2\n",
    "\n",
    "n1 = 0\n",
    "n2 = 0\n",
    "n3 = 0\n",
    "\n",
    "d1= 1\n",
    "d2= -1\n",
    "d3= -1\n",
    "\n",
    "J(n1,n2,n3,d1,d2,d3,k21,mpfr0,mpfr0)"
   ]
  },
  {
   "cell_type": "code",
   "execution_count": null,
   "id": "34cf0bb9",
   "metadata": {},
   "outputs": [],
   "source": [
    "L(2,1,2,1,2,1,k21,k22,k23,mass1,mass2,mass1)"
   ]
  },
  {
   "cell_type": "code",
   "execution_count": null,
   "id": "3963170d",
   "metadata": {},
   "outputs": [],
   "source": [
    "def test_J():\n",
    "    for i in range(16):\n",
    "        J(n1,n2,n3,i,10,4,k21,k22,k23)"
   ]
  },
  {
   "cell_type": "code",
   "execution_count": null,
   "id": "4b05c5a2",
   "metadata": {},
   "outputs": [],
   "source": [
    "lcs((1,2,3,4),(3,4,5,6))"
   ]
  },
  {
   "cell_type": "code",
   "execution_count": null,
   "id": "34b8cf9a",
   "metadata": {},
   "outputs": [],
   "source": [
    "start_time = time.time()\n",
    "%prun -s cumulative test_J()\n",
    "print(\"time:\", time.time()-start_time)"
   ]
  },
  {
   "cell_type": "code",
   "execution_count": null,
   "id": "1a50cef7",
   "metadata": {},
   "outputs": [],
   "source": [
    "import timeit\n",
    "import marshal"
   ]
  },
  {
   "cell_type": "code",
   "execution_count": null,
   "id": "262a9ecd",
   "metadata": {},
   "outputs": [],
   "source": [
    "print(timeit.timeit('marshal.dumps((0,1,2,3,4,5,6,7,8))','import marshal',number = 1000))\n",
    "print(timeit.timeit('hash((0,1,2,3,4,5,6,7,8))',number = 1000))"
   ]
  },
  {
   "cell_type": "code",
   "execution_count": null,
   "id": "45cb6fcc",
   "metadata": {},
   "outputs": [],
   "source": [
    "from babiscython_v4_ubuntu import TriaN\n",
    "from Jfunc_cython_v4 import computeJ as J\n",
    "\n",
    "kpeak1 = -0.034\n",
    "kpeak2 = -0.001\n",
    "kpeak3 = -0.000076\n",
    "kpeak4 = -0.0000156\n",
    "kuv1 = 0.069\n",
    "kuv2 = 0.0082\n",
    "kuv3 = 0.0013\n",
    "kuv4 = 0.0000135\n",
    "kpeak1 = mpfr(str(kpeak1))\n",
    "kpeak2 = mpfr(str(kpeak2))\n",
    "kpeak3 = mpfr(str(kpeak3))\n",
    "kpeak4 = mpfr(str(kpeak4))\n",
    "kuv1 = mpfr(str(kuv1))\n",
    "kuv2 = mpfr(str(kuv2))\n",
    "kuv3 = mpfr(str(kuv3))\n",
    "kuv4 = mpfr(str(kuv4))\n",
    "\n",
    "mass1 = -kpeak1 - 1j*kuv1\n",
    "mass1conj = -kpeak1 + 1j*kuv1\n",
    "mass2 = -kpeak2 - 1j*kuv2\n",
    "mass2conj = -kpeak2 + 1j*kuv2\n",
    "mass3 = -kpeak3 - 1j*kuv3\n",
    "mass3conj = -kpeak3 + 1j*kuv3\n",
    "mass4 = -kpeak4 - 1j*kuv4\n",
    "mass4conj = -kpeak4 + 1j*kuv4\n",
    "\n",
    "k21 = mpfr(0.5)\n",
    "k22 = mpfr(0.5)\n",
    "k23 = mpfr(0.5)\n",
    "\n",
    "n1 = -1\n",
    "n2 = 3\n",
    "n3 = -1\n",
    "\n",
    "d1=3\n",
    "d2=3\n",
    "d3=3\n",
    "\n",
    "m1=mass1\n",
    "m2=mass1\n",
    "m3=mass1\n",
    "\n",
    "\n",
    "# TriaN(d1,d2,d3,k21,k22,k23,m1,m2,m3)\n",
    "J(n1,n2,n3,d1,d2,d3,k21,k22,k23)"
   ]
  }
 ],
 "metadata": {
  "kernelspec": {
   "display_name": "Python 3 (ipykernel)",
   "language": "python",
   "name": "python3"
  },
  "language_info": {
   "codemirror_mode": {
    "name": "ipython",
    "version": 3
   },
   "file_extension": ".py",
   "mimetype": "text/x-python",
   "name": "python",
   "nbconvert_exporter": "python",
   "pygments_lexer": "ipython3",
   "version": "3.7.10"
  }
 },
 "nbformat": 4,
 "nbformat_minor": 5
}
